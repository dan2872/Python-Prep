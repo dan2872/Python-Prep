{
 "cells": [
  {
   "cell_type": "code",
   "execution_count": 2,
   "metadata": {},
   "outputs": [
    {
     "name": "stdout",
     "output_type": "stream",
     "text": [
      "La variable es mayor a cero\n"
     ]
    }
   ],
   "source": [
    "#Crear una variable que contenga un elemento del conjunto de números enteros y luego imprimir por pantalla si es mayor o menor a cero\n",
    "\n",
    "x = int(input(\"Dime un numero\"))\n",
    "if x < 0:\n",
    "    print(\"La variable es menor a cero\")\n",
    "elif x > 0:\n",
    "    print(\"La variable es mayor a cero\")\n",
    "else:\n",
    "    print(\"la variable es 0\")"
   ]
  },
  {
   "cell_type": "code",
   "execution_count": 8,
   "metadata": {},
   "outputs": [
    {
     "name": "stdout",
     "output_type": "stream",
     "text": [
      "No son del mismo tipo\n"
     ]
    }
   ],
   "source": [
    "#Crear dos variables y un condicional que informe si son del mismo tipo de dato\n",
    "var1 = \"Dime un numero o cosa\"\n",
    "var2 = 5\n",
    "if type(var1) == type(var2):\n",
    "    print(\"Son el mimo tipo de variable\")\n",
    "else:\n",
    "    print(\"No son del mismo tipo\")\n",
    "\n",
    "\n"
   ]
  },
  {
   "cell_type": "code",
   "execution_count": null,
   "metadata": {},
   "outputs": [],
   "source": [
    "#Para los valores enteros del 1 al 20, imprimir por pantalla si es par o impar\n",
    "for i in range(1,21):\n",
    "    if (i%2 == 0):\n",
    "        print(i, \"es par\")\n",
    "    else:\n",
    "        print(i, \"no es par\")"
   ]
  },
  {
   "cell_type": "code",
   "execution_count": null,
   "metadata": {},
   "outputs": [],
   "source": [
    "#En un ciclo for mostrar para los valores entre 0 y 5 el resultado de elevarlo a la potencia igual a 3\n",
    "for y in range(0,6):\n",
    "    print(y**3)"
   ]
  },
  {
   "cell_type": "code",
   "execution_count": 22,
   "metadata": {},
   "outputs": [
    {
     "name": "stdout",
     "output_type": "stream",
     "text": [
      "11\n"
     ]
    }
   ],
   "source": [
    "#Crear una variable que contenga un número entero y realizar un ciclo for la misma cantidad de ciclos\n",
    "n = 12\n",
    "for i in range(0, n):\n",
    "    pass\n",
    "print(i)\n",
    "\n"
   ]
  },
  {
   "cell_type": "code",
   "execution_count": 6,
   "metadata": {},
   "outputs": [
    {
     "name": "stdout",
     "output_type": "stream",
     "text": [
      "24\n"
     ]
    }
   ],
   "source": [
    "#Utilizar un ciclo while para realizar el factoreo de un número guardado en una variable, sólo si la variable contiene un número entero mayor a 0\n",
    "n = 4\n",
    "factorial = 1\n",
    "while(n>1):\n",
    "    factorial *= n\n",
    "    n -= 1\n",
    "print(factorial)\n",
    "\n",
    "\n",
    "\n"
   ]
  },
  {
   "cell_type": "code",
   "execution_count": null,
   "metadata": {},
   "outputs": [],
   "source": [
    "#Crear un ciclo for dentro de un ciclo while\n",
    "n = 0\n",
    "while(n < 5):\n",
    "    n += 1\n",
    "    for i in range(1,n):\n",
    "        print('Ciclo while nro ' + str(n))\n",
    "        print('Ciclo for nro ' + str(i))"
   ]
  },
  {
   "cell_type": "code",
   "execution_count": 7,
   "metadata": {},
   "outputs": [],
   "source": [
    "#Crear un ciclo while dentro de un ciclo for\n",
    "n = 5\n",
    "for i in range(1, n):\n",
    "    while (n < 5):\n",
    "        n -= 1\n",
    "        print(\"ciclo for nro\" + str(i))\n",
    "        print(\"ciclo while nro\" + str(n))"
   ]
  },
  {
   "cell_type": "code",
   "execution_count": 6,
   "metadata": {},
   "outputs": [
    {
     "name": "stdout",
     "output_type": "stream",
     "text": [
      "el numero 0 es primo\n",
      "el numero 1 es primo\n",
      "el numero 2 es primo\n",
      "el numero 3 es primo\n",
      "el numero 5 es primo\n",
      "el numero 7 es primo\n",
      "el numero 9 es primo\n",
      "el numero 11 es primo\n",
      "el numero 13 es primo\n",
      "el numero 15 es primo\n",
      "el numero 17 es primo\n",
      "el numero 19 es primo\n",
      "el numero 21 es primo\n",
      "el numero 23 es primo\n",
      "el numero 25 es primo\n",
      "el numero 27 es primo\n",
      "el numero 29 es primo\n"
     ]
    }
   ],
   "source": [
    "#Imprimir los números primos existentes entre 0 y 30\n",
    "min = 0\n",
    "max = 30\n",
    "for n in range(min, (max+1)):\n",
    "    primo = True\n",
    "    j=2\n",
    "    while (j < n):\n",
    "        if (n % j == 0):\n",
    "            primo = False\n",
    "            break\n",
    "        j += 1\n",
    "    if (primo):\n",
    "        print(\"el numero\", n, \"es primo\")\n"
   ]
  },
  {
   "cell_type": "code",
   "execution_count": null,
   "metadata": {},
   "outputs": [],
   "source": [
    "#¿Se puede mejorar el proceso del punto 9? Utilizar las sentencias break y/ó continue para tal fin\n"
   ]
  },
  {
   "cell_type": "code",
   "execution_count": 1,
   "metadata": {},
   "outputs": [
    {
     "name": "stdout",
     "output_type": "stream",
     "text": [
      "108\n",
      "120\n",
      "132\n",
      "144\n",
      "156\n",
      "168\n",
      "180\n",
      "192\n",
      "204\n",
      "216\n",
      "228\n",
      "240\n",
      "252\n",
      "264\n",
      "276\n",
      "288\n",
      "300\n"
     ]
    }
   ],
   "source": [
    "n = 99\n",
    "while(n <= 300):\n",
    "    n += 1\n",
    "    if (n % 12 != 0):\n",
    "        continue\n",
    "    print(n)\n"
   ]
  },
  {
   "cell_type": "code",
   "execution_count": 9,
   "metadata": {},
   "outputs": [
    {
     "data": {
      "text/plain": [
       "0"
      ]
     },
     "execution_count": 9,
     "metadata": {},
     "output_type": "execute_result"
    }
   ],
   "source": [
    "mi_lista =[\"azul\", \"negro\", \"blanco\", 2, \"azul\"]\n",
    "mi_lista.index(\"azul\")"
   ]
  },
  {
   "cell_type": "code",
   "execution_count": null,
   "metadata": {},
   "outputs": [],
   "source": [
    "dicc = [\"fruta\" = [\"pera\", \"manzana\", \"tuna\"]\n",
    "        ]"
   ]
  },
  {
   "cell_type": "code",
   "execution_count": 4,
   "metadata": {},
   "outputs": [
    {
     "data": {
      "text/plain": [
       "[10, 20, 30, 40, 50, 60, 70, 80, 90, 100]"
      ]
     },
     "execution_count": 4,
     "metadata": {},
     "output_type": "execute_result"
    }
   ],
   "source": [
    "numeros = [1, 2, 3, 4, 5, 6, 7, 8, 9, 10]\n",
    "for indice, numero in enumerate(numeros):\n",
    "    numeros[indice] *= 10\n",
    "numeros"
   ]
  },
  {
   "cell_type": "code",
   "execution_count": null,
   "metadata": {},
   "outputs": [],
   "source": [
    "help(enumerate)"
   ]
  },
  {
   "cell_type": "code",
   "execution_count": null,
   "metadata": {},
   "outputs": [],
   "source": [
    "n = 10\n",
    "while True:\n",
    "    print(n)\n",
    "    n -=1\n",
    "    if n ==0:\n",
    "        break\n",
    "print(\"Fuegoo\")"
   ]
  },
  {
   "cell_type": "code",
   "execution_count": null,
   "metadata": {},
   "outputs": [],
   "source": [
    "for i in range(10, -1, -1):\n",
    "    print(i)\n",
    "    if i == 0:\n",
    "        print(\"fuegoo\")"
   ]
  },
  {
   "cell_type": "code",
   "execution_count": null,
   "metadata": {},
   "outputs": [],
   "source": [
    "n=0\n",
    "y=0\n",
    "for i in range(1, 101, 1):\n",
    "    if i%4 == 0:\n",
    "        y += i\n",
    "        n +=1\n",
    "print(\"La suma de los\", n, \"numeros multiplos de 4 es: \", y)\n",
    "\n"
   ]
  },
  {
   "cell_type": "code",
   "execution_count": 26,
   "metadata": {},
   "outputs": [
    {
     "name": "stdout",
     "output_type": "stream",
     "text": [
      "5! = 5 x 4 x 3 x 2 x 1 = 120\n"
     ]
    }
   ],
   "source": [
    "numero = int(input('Ingrese el número al que desea calcular el factorial: '))\n",
    "\n",
    "resultado=1\n",
    "print (f'{numero}! = ',end='')\n",
    "while numero >1:\n",
    "    resultado*=numero\n",
    "    print (f'{numero} x ',end='')\n",
    "    numero-=1\n",
    "print (f'1 = {resultado}')"
   ]
  },
  {
   "cell_type": "code",
   "execution_count": 27,
   "metadata": {},
   "outputs": [
    {
     "name": "stdout",
     "output_type": "stream",
     "text": [
      "[10, 11, 12, 13, 14, 15, 16, 17, 18, 19, 20]\n"
     ]
    }
   ],
   "source": [
    "\n",
    "# Create an empty list\n",
    "My_list = []\n",
    "  \n",
    "# Value to begin and end with\n",
    "start, end = 10, 20\n",
    "  \n",
    "# Check if start value is smaller than end value\n",
    "if start < end:\n",
    "    # unpack the result\n",
    "    My_list.extend(range(start, end))\n",
    "    # Append the last value\n",
    "    My_list.append(end)\n",
    "  \n",
    "# Print the list\n",
    "print(My_list)\n"
   ]
  },
  {
   "cell_type": "code",
   "execution_count": null,
   "metadata": {},
   "outputs": [],
   "source": [
    "n = int(input(\"Introduce la altura del triángulo (entero positivo): \"))\n",
    "for i in range(n):\n",
    "    for j in range(i+1):\n",
    "        print(\"*\", end=\"\")\n",
    "    print(\"\")"
   ]
  },
  {
   "cell_type": "code",
   "execution_count": null,
   "metadata": {},
   "outputs": [],
   "source": [
    "n = int(input(\"Introduce la altura del triángulo (entero positivo): \"))\n",
    "for i in range(n):\n",
    "   print(\"*\"*(i+1))"
   ]
  },
  {
   "cell_type": "code",
   "execution_count": null,
   "metadata": {},
   "outputs": [],
   "source": [
    "mult = int(input(\"de que numero quieres la tabla\"))\n",
    "for i in range(11):\n",
    "    print(mult*i)"
   ]
  },
  {
   "cell_type": "code",
   "execution_count": null,
   "metadata": {},
   "outputs": [],
   "source": [
    "n = int(input(\"Introduce la altura del triángulo (entero positivo): \"))\n",
    "for i in range(1, n+1, 2):\n",
    "    for j in range(i, 0, -2):\n",
    "        print(j, end=\" \")\n",
    "    print(\"\")"
   ]
  },
  {
   "cell_type": "code",
   "execution_count": 42,
   "metadata": {},
   "outputs": [],
   "source": [
    "cad = \"contraseña\"\n",
    "cad2 = str(input(\"cual es la contraseña?\"))\n",
    "while cad2 != cad:\n",
    "    cad2 = str(input(\"cual es la contraseña?\"))\n",
    "    if cad2 == cad:\n",
    "        break\n"
   ]
  },
  {
   "cell_type": "code",
   "execution_count": null,
   "metadata": {},
   "outputs": [],
   "source": [
    "#Escribir un programa que pida al usuario una palabra y luego muestre por pantalla una a una las letras de la palabra introducida empezando por la última.\n",
    "cad2 = str(input(\"Dime una palabra\"))\n",
    "for i in range(len(cad2)-1, -1,-1):\n",
    "    print(cad2[i])\n"
   ]
  },
  {
   "cell_type": "markdown",
   "metadata": {},
   "source": [
    "Escribir un programa en el que se pregunte al usuario por una frase y una letra, y muestre por pantalla el número de veces que aparece la letra en la frase.\n"
   ]
  },
  {
   "cell_type": "code",
   "execution_count": 49,
   "metadata": {},
   "outputs": [
    {
     "name": "stdout",
     "output_type": "stream",
     "text": [
      "La letra a aparece 3 veces\n"
     ]
    }
   ],
   "source": [
    "cad2 = str(input(\"Dime algo\"))\n",
    "let = str(input(\"Dime la letra\"))\n",
    "let2 = 0\n",
    "for i in cad2:\n",
    "    if let == i:\n",
    "        let2 += 1\n",
    "print(\"La letra\", let, \"aparece\", let2, \"veces\")\n",
    "\n"
   ]
  },
  {
   "cell_type": "code",
   "execution_count": 50,
   "metadata": {},
   "outputs": [
    {
     "name": "stdout",
     "output_type": "stream",
     "text": [
      "La letra 'a' aparece  3 veces en la frase 'holaaa'.\n"
     ]
    }
   ],
   "source": [
    "frase = input(\"Introduce una frase: \")\n",
    "letra = input(\"Introduce una letra\")\n",
    "contador = 0\n",
    "for i in frase:\n",
    "    if i == letra:\n",
    "        contador += 1\n",
    "print(\"La letra '%s' aparece %2i veces en la frase '%s'.\" % (letra, contador, frase))"
   ]
  },
  {
   "cell_type": "code",
   "execution_count": 56,
   "metadata": {},
   "outputs": [],
   "source": [
    "a = 2\n",
    "b = 3\n",
    "if a == 5:\n",
    "    print(\"a vale\",a)\n",
    "    if b == 10:\n",
    "        print(\"y b vale\",b)"
   ]
  }
 ],
 "metadata": {
  "interpreter": {
   "hash": "ff6aa13da6894090a69066f5415cb687f3c44c5c9ebaa9e4f05936d4a7e1ff4e"
  },
  "kernelspec": {
   "display_name": "Python 3.10.2 64-bit (windows store)",
   "language": "python",
   "name": "python3"
  },
  "language_info": {
   "codemirror_mode": {
    "name": "ipython",
    "version": 3
   },
   "file_extension": ".py",
   "mimetype": "text/x-python",
   "name": "python",
   "nbconvert_exporter": "python",
   "pygments_lexer": "ipython3",
   "version": "3.8.8"
  },
  "orig_nbformat": 4
 },
 "nbformat": 4,
 "nbformat_minor": 2
}
